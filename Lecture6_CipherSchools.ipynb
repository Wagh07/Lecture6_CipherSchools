{
  "nbformat": 4,
  "nbformat_minor": 0,
  "metadata": {
    "colab": {
      "provenance": []
    },
    "kernelspec": {
      "name": "python3",
      "display_name": "Python 3"
    },
    "language_info": {
      "name": "python"
    }
  },
  "cells": [
    {
      "cell_type": "code",
      "source": [
        "# taking Input from user and storing it in variable\n",
        "\n",
        "input()\n"
      ],
      "metadata": {
        "colab": {
          "base_uri": "https://localhost:8080/",
          "height": 53
        },
        "id": "gwrlcBaxCf08",
        "outputId": "78897b0f-b8ce-4d7b-c378-ef0e563bf2ec"
      },
      "execution_count": 27,
      "outputs": [
        {
          "name": "stdout",
          "output_type": "stream",
          "text": [
            "123\n"
          ]
        },
        {
          "output_type": "execute_result",
          "data": {
            "text/plain": [
              "'123'"
            ],
            "application/vnd.google.colaboratory.intrinsic+json": {
              "type": "string"
            }
          },
          "metadata": {},
          "execution_count": 27
        }
      ]
    },
    {
      "cell_type": "code",
      "source": [
        "a=input()\n",
        "\n",
        "print(a)"
      ],
      "metadata": {
        "colab": {
          "base_uri": "https://localhost:8080/"
        },
        "id": "seVIyvTUHAN0",
        "outputId": "95b68ba7-d985-4caa-b0ad-80be651437a6"
      },
      "execution_count": 29,
      "outputs": [
        {
          "output_type": "stream",
          "name": "stdout",
          "text": [
            "34\n",
            "34\n"
          ]
        }
      ]
    },
    {
      "cell_type": "code",
      "source": [
        "# WAP to take two numbers from user and Add them\n",
        "\n",
        "''' Without typecasting + acts as a concat '''\n",
        "\n",
        "a = input('enter first number: ')\n",
        "b = input('enter second number: ')\n",
        "\n",
        "print(a+b)\n",
        "\n",
        "print(type(a))"
      ],
      "metadata": {
        "colab": {
          "base_uri": "https://localhost:8080/"
        },
        "id": "JaH-JlJdHKJm",
        "outputId": "f7b67110-9b46-4470-dec0-bf41d5f3f0d8"
      },
      "execution_count": 31,
      "outputs": [
        {
          "output_type": "stream",
          "name": "stdout",
          "text": [
            "enter first number: 5\n",
            "enter second number: 10\n",
            "510\n",
            "<class 'str'>\n"
          ]
        }
      ]
    },
    {
      "cell_type": "code",
      "source": [
        "''' To perform addition use typecasting '''\n",
        "\n",
        "a=int(input('enter first number: '))\n",
        "b=int(input('enter second number: '))\n",
        "\n",
        "print(a+b)\n",
        "print(type(a))"
      ],
      "metadata": {
        "colab": {
          "base_uri": "https://localhost:8080/"
        },
        "id": "XR95S5qUIM3_",
        "outputId": "281fbe8f-6bcf-4945-cf95-8b3cf8555533"
      },
      "execution_count": 32,
      "outputs": [
        {
          "output_type": "stream",
          "name": "stdout",
          "text": [
            "enter first number: 30\n",
            "enter second number: 40\n",
            "70\n",
            "<class 'int'>\n"
          ]
        }
      ]
    },
    {
      "cell_type": "code",
      "source": [
        "# (+) operator overloading\n",
        "\n",
        "print(a+b)\n",
        "print('a'+'b')"
      ],
      "metadata": {
        "colab": {
          "base_uri": "https://localhost:8080/"
        },
        "id": "jtvJW77AI-X7",
        "outputId": "17f5299a-2dc9-406b-f9d2-5b6a18225383"
      },
      "execution_count": 34,
      "outputs": [
        {
          "output_type": "stream",
          "name": "stdout",
          "text": [
            "70\n",
            "ab\n"
          ]
        }
      ]
    },
    {
      "cell_type": "code",
      "source": [
        "# Format Specifier can also be used in Python just like C language to print(optional)\n",
        "\n",
        "num=int(input('enter a number: '))\n",
        "print(num)\n",
        "print(type(num))\n",
        "print('%d' %(num))"
      ],
      "metadata": {
        "colab": {
          "base_uri": "https://localhost:8080/"
        },
        "id": "WBuElPJxJcSK",
        "outputId": "8c744363-f62a-47d9-e4ea-8445a373eb93"
      },
      "execution_count": 35,
      "outputs": [
        {
          "output_type": "stream",
          "name": "stdout",
          "text": [
            "enter a number: 34\n",
            "34\n",
            "<class 'int'>\n",
            "34\n"
          ]
        }
      ]
    },
    {
      "cell_type": "code",
      "source": [
        "# (*) operator overloading\n",
        "\n",
        "print(2*3)\n",
        "\n",
        "print('2'*3)"
      ],
      "metadata": {
        "colab": {
          "base_uri": "https://localhost:8080/"
        },
        "id": "DbStgN7PK7IW",
        "outputId": "200d71a3-6ef3-4485-b902-71c9ba9ecf6d"
      },
      "execution_count": 36,
      "outputs": [
        {
          "output_type": "stream",
          "name": "stdout",
          "text": [
            "6\n",
            "222\n"
          ]
        }
      ]
    },
    {
      "cell_type": "code",
      "source": [
        "# to get space while printing use comma(,)\n",
        "\n",
        "print(5,6,7)\n",
        "\n",
        "print('56789')\n",
        "\n",
        "print('python',3,4)\n"
      ],
      "metadata": {
        "colab": {
          "base_uri": "https://localhost:8080/"
        },
        "id": "dM_J2V5TLajn",
        "outputId": "8529261a-ab4b-4e9b-fc45-b936fedd10b4"
      },
      "execution_count": 37,
      "outputs": [
        {
          "output_type": "stream",
          "name": "stdout",
          "text": [
            "5 6 7\n",
            "56789\n",
            "python 3 4\n"
          ]
        }
      ]
    },
    {
      "cell_type": "code",
      "source": [
        "# alternatives for comma .... use sep=''\n",
        "\n",
        "print(1,2,3,sep='!')\n",
        "\n",
        "print(1,2,3,sep='')\n",
        "\n",
        "# to print in the same line... use end=''  since by default python mei p rint next line mei hota hai\n",
        "\n",
        "print(1,2,3, sep=',',end='!!')\n",
        "\n",
        "\n"
      ],
      "metadata": {
        "colab": {
          "base_uri": "https://localhost:8080/"
        },
        "id": "r98ZnVJPLwZ2",
        "outputId": "9291b892-4457-4945-fa73-0cfae6b34af8"
      },
      "execution_count": 43,
      "outputs": [
        {
          "output_type": "stream",
          "name": "stdout",
          "text": [
            "1!2!3\n",
            "123\n",
            "1,2,3!!"
          ]
        }
      ]
    }
  ]
}